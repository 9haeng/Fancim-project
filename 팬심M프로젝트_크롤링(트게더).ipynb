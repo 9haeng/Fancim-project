{
  "nbformat": 4,
  "nbformat_minor": 0,
  "metadata": {
    "colab": {
      "name": "팬심M프로젝트_크롤링(트게더).ipynb",
      "provenance": [],
      "collapsed_sections": []
    },
    "kernelspec": {
      "name": "python3",
      "display_name": "Python 3"
    },
    "language_info": {
      "name": "python"
    }
  },
  "cells": [
    {
      "cell_type": "markdown",
      "source": [
        "# **라이브러리 불러오기**\n"
      ],
      "metadata": {
        "id": "PTqI7j27ZgdL"
      }
    },
    {
      "cell_type": "code",
      "source": [
        "!pip install selenium\n",
        "!pip install webdriver_manager.chrome\n",
        "!pip install pororo\n",
        "!pip install soynlp.normalizer\n",
        "!pip install webdriver-manager\n",
        "!pip install soynlp"
      ],
      "metadata": {
        "colab": {
          "base_uri": "https://localhost:8080/",
          "height": 1000
        },
        "id": "T5vmJybUZ8nj",
        "outputId": "2aadf574-eb78-4efe-ebe0-e15117e1515f"
      },
      "execution_count": null,
      "outputs": [
        {
          "output_type": "stream",
          "name": "stdout",
          "text": [
            "Requirement already satisfied: selenium in /usr/local/lib/python3.7/dist-packages (4.1.3)\n",
            "Collecting urllib3[secure,socks]~=1.26\n",
            "  Using cached urllib3-1.26.9-py2.py3-none-any.whl (138 kB)\n",
            "Requirement already satisfied: trio~=0.17 in /usr/local/lib/python3.7/dist-packages (from selenium) (0.20.0)\n",
            "Requirement already satisfied: trio-websocket~=0.9 in /usr/local/lib/python3.7/dist-packages (from selenium) (0.9.2)\n",
            "Requirement already satisfied: attrs>=19.2.0 in /usr/local/lib/python3.7/dist-packages (from trio~=0.17->selenium) (21.4.0)\n",
            "Requirement already satisfied: sniffio in /usr/local/lib/python3.7/dist-packages (from trio~=0.17->selenium) (1.2.0)\n",
            "Requirement already satisfied: async-generator>=1.9 in /usr/local/lib/python3.7/dist-packages (from trio~=0.17->selenium) (1.10)\n",
            "Requirement already satisfied: idna in /usr/local/lib/python3.7/dist-packages (from trio~=0.17->selenium) (2.10)\n",
            "Requirement already satisfied: outcome in /usr/local/lib/python3.7/dist-packages (from trio~=0.17->selenium) (1.1.0)\n",
            "Requirement already satisfied: sortedcontainers in /usr/local/lib/python3.7/dist-packages (from trio~=0.17->selenium) (2.4.0)\n",
            "Requirement already satisfied: wsproto>=0.14 in /usr/local/lib/python3.7/dist-packages (from trio-websocket~=0.9->selenium) (1.1.0)\n",
            "Requirement already satisfied: certifi in /usr/local/lib/python3.7/dist-packages (from urllib3[secure,socks]~=1.26->selenium) (2021.10.8)\n",
            "Requirement already satisfied: cryptography>=1.3.4 in /usr/local/lib/python3.7/dist-packages (from urllib3[secure,socks]~=1.26->selenium) (36.0.2)\n",
            "Requirement already satisfied: pyOpenSSL>=0.14 in /usr/local/lib/python3.7/dist-packages (from urllib3[secure,socks]~=1.26->selenium) (22.0.0)\n",
            "Requirement already satisfied: PySocks!=1.5.7,<2.0,>=1.5.6 in /usr/local/lib/python3.7/dist-packages (from urllib3[secure,socks]~=1.26->selenium) (1.7.1)\n",
            "Requirement already satisfied: cffi>=1.12 in /usr/local/lib/python3.7/dist-packages (from cryptography>=1.3.4->urllib3[secure,socks]~=1.26->selenium) (1.15.0)\n",
            "Requirement already satisfied: pycparser in /usr/local/lib/python3.7/dist-packages (from cffi>=1.12->cryptography>=1.3.4->urllib3[secure,socks]~=1.26->selenium) (2.21)\n",
            "Requirement already satisfied: h11<1,>=0.9.0 in /usr/local/lib/python3.7/dist-packages (from wsproto>=0.14->trio-websocket~=0.9->selenium) (0.13.0)\n",
            "Requirement already satisfied: typing-extensions in /usr/local/lib/python3.7/dist-packages (from h11<1,>=0.9.0->wsproto>=0.14->trio-websocket~=0.9->selenium) (3.10.0.2)\n",
            "Installing collected packages: urllib3\n",
            "  Attempting uninstall: urllib3\n",
            "    Found existing installation: urllib3 1.25.11\n",
            "    Uninstalling urllib3-1.25.11:\n",
            "      Successfully uninstalled urllib3-1.25.11\n",
            "\u001b[31mERROR: pip's dependency resolver does not currently take into account all the packages that are installed. This behaviour is the source of the following dependency conflicts.\n",
            "requests 2.23.0 requires urllib3!=1.25.0,!=1.25.1,<1.26,>=1.21.1, but you have urllib3 1.26.9 which is incompatible.\n",
            "datascience 0.10.6 requires folium==0.2.1, but you have folium 0.8.3 which is incompatible.\u001b[0m\n",
            "Successfully installed urllib3-1.26.9\n"
          ]
        },
        {
          "output_type": "display_data",
          "data": {
            "application/vnd.colab-display-data+json": {
              "pip_warning": {
                "packages": [
                  "urllib3"
                ]
              }
            }
          },
          "metadata": {}
        },
        {
          "output_type": "stream",
          "name": "stdout",
          "text": [
            "\u001b[31mERROR: Could not find a version that satisfies the requirement webdriver_manager.chrome (from versions: none)\u001b[0m\n",
            "\u001b[31mERROR: No matching distribution found for webdriver_manager.chrome\u001b[0m\n",
            "Requirement already satisfied: pororo in /usr/local/lib/python3.7/dist-packages (0.4.2)\n",
            "Requirement already satisfied: pillow>=4.1.1 in /usr/local/lib/python3.7/dist-packages (from pororo) (7.1.2)\n",
            "Requirement already satisfied: transformers>=4.0.0 in /usr/local/lib/python3.7/dist-packages (from pororo) (4.17.0)\n",
            "Requirement already satisfied: kss in /usr/local/lib/python3.7/dist-packages (from pororo) (3.4.2)\n",
            "Requirement already satisfied: wget in /usr/local/lib/python3.7/dist-packages (from pororo) (3.2)\n",
            "Requirement already satisfied: joblib in /usr/local/lib/python3.7/dist-packages (from pororo) (1.1.0)\n",
            "Requirement already satisfied: lxml in /usr/local/lib/python3.7/dist-packages (from pororo) (4.2.6)\n",
            "Requirement already satisfied: whoosh in /usr/local/lib/python3.7/dist-packages (from pororo) (2.7.4)\n",
            "Requirement already satisfied: g2p-en in /usr/local/lib/python3.7/dist-packages (from pororo) (2.1.0)\n",
            "Requirement already satisfied: sentence-transformers>=0.4.1.2 in /usr/local/lib/python3.7/dist-packages (from pororo) (2.2.0)\n",
            "Requirement already satisfied: marisa-trie in /usr/local/lib/python3.7/dist-packages (from pororo) (0.7.7)\n",
            "Requirement already satisfied: word2word in /usr/local/lib/python3.7/dist-packages (from pororo) (1.0.0)\n",
            "Requirement already satisfied: torch==1.6.0 in /usr/local/lib/python3.7/dist-packages (from pororo) (1.6.0)\n",
            "Requirement already satisfied: torchvision==0.7.0 in /usr/local/lib/python3.7/dist-packages (from pororo) (0.7.0)\n",
            "Requirement already satisfied: nltk>=3.5 in /usr/local/lib/python3.7/dist-packages (from pororo) (3.7)\n",
            "Requirement already satisfied: fairseq>=0.10.2 in /usr/local/lib/python3.7/dist-packages (from pororo) (0.10.2)\n",
            "Requirement already satisfied: numpy in /usr/local/lib/python3.7/dist-packages (from torch==1.6.0->pororo) (1.21.5)\n",
            "Requirement already satisfied: future in /usr/local/lib/python3.7/dist-packages (from torch==1.6.0->pororo) (0.16.0)\n",
            "Requirement already satisfied: cython in /usr/local/lib/python3.7/dist-packages (from fairseq>=0.10.2->pororo) (0.29.28)\n",
            "Requirement already satisfied: sacrebleu>=1.4.12 in /usr/local/lib/python3.7/dist-packages (from fairseq>=0.10.2->pororo) (2.0.0)\n",
            "Requirement already satisfied: tqdm in /usr/local/lib/python3.7/dist-packages (from fairseq>=0.10.2->pororo) (4.63.0)\n",
            "Requirement already satisfied: hydra-core in /usr/local/lib/python3.7/dist-packages (from fairseq>=0.10.2->pororo) (1.1.1)\n",
            "Requirement already satisfied: regex in /usr/local/lib/python3.7/dist-packages (from fairseq>=0.10.2->pororo) (2022.3.15)\n",
            "Requirement already satisfied: cffi in /usr/local/lib/python3.7/dist-packages (from fairseq>=0.10.2->pororo) (1.15.0)\n",
            "Requirement already satisfied: dataclasses in /usr/local/lib/python3.7/dist-packages (from fairseq>=0.10.2->pororo) (0.6)\n",
            "Requirement already satisfied: click in /usr/local/lib/python3.7/dist-packages (from nltk>=3.5->pororo) (7.1.2)\n",
            "Requirement already satisfied: tabulate>=0.8.9 in /usr/local/lib/python3.7/dist-packages (from sacrebleu>=1.4.12->fairseq>=0.10.2->pororo) (0.8.9)\n",
            "Requirement already satisfied: portalocker in /usr/local/lib/python3.7/dist-packages (from sacrebleu>=1.4.12->fairseq>=0.10.2->pororo) (2.4.0)\n",
            "Requirement already satisfied: colorama in /usr/local/lib/python3.7/dist-packages (from sacrebleu>=1.4.12->fairseq>=0.10.2->pororo) (0.4.4)\n",
            "Requirement already satisfied: scikit-learn in /usr/local/lib/python3.7/dist-packages (from sentence-transformers>=0.4.1.2->pororo) (1.0.2)\n",
            "Requirement already satisfied: scipy in /usr/local/lib/python3.7/dist-packages (from sentence-transformers>=0.4.1.2->pororo) (1.4.1)\n",
            "Requirement already satisfied: sentencepiece in /usr/local/lib/python3.7/dist-packages (from sentence-transformers>=0.4.1.2->pororo) (0.1.96)\n",
            "Requirement already satisfied: huggingface-hub in /usr/local/lib/python3.7/dist-packages (from sentence-transformers>=0.4.1.2->pororo) (0.4.0)\n",
            "Requirement already satisfied: tokenizers!=0.11.3,>=0.11.1 in /usr/local/lib/python3.7/dist-packages (from transformers>=4.0.0->pororo) (0.11.6)\n",
            "Requirement already satisfied: filelock in /usr/local/lib/python3.7/dist-packages (from transformers>=4.0.0->pororo) (3.6.0)\n",
            "Requirement already satisfied: packaging>=20.0 in /usr/local/lib/python3.7/dist-packages (from transformers>=4.0.0->pororo) (21.3)\n",
            "Requirement already satisfied: importlib-metadata in /usr/local/lib/python3.7/dist-packages (from transformers>=4.0.0->pororo) (4.11.3)\n",
            "Requirement already satisfied: requests in /usr/local/lib/python3.7/dist-packages (from transformers>=4.0.0->pororo) (2.23.0)\n",
            "Requirement already satisfied: pyyaml>=5.1 in /usr/local/lib/python3.7/dist-packages (from transformers>=4.0.0->pororo) (6.0)\n",
            "Requirement already satisfied: sacremoses in /usr/local/lib/python3.7/dist-packages (from transformers>=4.0.0->pororo) (0.0.49)\n",
            "Requirement already satisfied: typing-extensions>=3.7.4.3 in /usr/local/lib/python3.7/dist-packages (from huggingface-hub->sentence-transformers>=0.4.1.2->pororo) (3.10.0.2)\n",
            "Requirement already satisfied: pyparsing!=3.0.5,>=2.0.2 in /usr/local/lib/python3.7/dist-packages (from packaging>=20.0->transformers>=4.0.0->pororo) (3.0.7)\n",
            "Requirement already satisfied: pycparser in /usr/local/lib/python3.7/dist-packages (from cffi->fairseq>=0.10.2->pororo) (2.21)\n",
            "Requirement already satisfied: distance>=0.1.3 in /usr/local/lib/python3.7/dist-packages (from g2p-en->pororo) (0.1.3)\n",
            "Requirement already satisfied: inflect>=0.3.1 in /usr/local/lib/python3.7/dist-packages (from g2p-en->pororo) (2.1.0)\n",
            "Requirement already satisfied: antlr4-python3-runtime==4.8 in /usr/local/lib/python3.7/dist-packages (from hydra-core->fairseq>=0.10.2->pororo) (4.8)\n",
            "Requirement already satisfied: importlib-resources in /usr/local/lib/python3.7/dist-packages (from hydra-core->fairseq>=0.10.2->pororo) (5.4.0)\n",
            "Requirement already satisfied: omegaconf==2.1.* in /usr/local/lib/python3.7/dist-packages (from hydra-core->fairseq>=0.10.2->pororo) (2.1.1)\n",
            "Requirement already satisfied: zipp>=0.5 in /usr/local/lib/python3.7/dist-packages (from importlib-metadata->transformers>=4.0.0->pororo) (3.7.0)\n",
            "Requirement already satisfied: more-itertools in /usr/local/lib/python3.7/dist-packages (from kss->pororo) (8.12.0)\n",
            "Requirement already satisfied: emoji in /usr/local/lib/python3.7/dist-packages (from kss->pororo) (1.7.0)\n",
            "Requirement already satisfied: setuptools in /usr/local/lib/python3.7/dist-packages (from marisa-trie->pororo) (57.4.0)\n",
            "Collecting urllib3!=1.25.0,!=1.25.1,<1.26,>=1.21.1\n",
            "  Using cached urllib3-1.25.11-py2.py3-none-any.whl (127 kB)\n",
            "Requirement already satisfied: chardet<4,>=3.0.2 in /usr/local/lib/python3.7/dist-packages (from requests->transformers>=4.0.0->pororo) (3.0.4)\n",
            "Requirement already satisfied: idna<3,>=2.5 in /usr/local/lib/python3.7/dist-packages (from requests->transformers>=4.0.0->pororo) (2.10)\n",
            "Requirement already satisfied: certifi>=2017.4.17 in /usr/local/lib/python3.7/dist-packages (from requests->transformers>=4.0.0->pororo) (2021.10.8)\n",
            "Requirement already satisfied: six in /usr/local/lib/python3.7/dist-packages (from sacremoses->transformers>=4.0.0->pororo) (1.15.0)\n",
            "Requirement already satisfied: threadpoolctl>=2.0.0 in /usr/local/lib/python3.7/dist-packages (from scikit-learn->sentence-transformers>=0.4.1.2->pororo) (3.1.0)\n",
            "Installing collected packages: urllib3\n",
            "  Attempting uninstall: urllib3\n",
            "    Found existing installation: urllib3 1.26.9\n",
            "    Uninstalling urllib3-1.26.9:\n",
            "      Successfully uninstalled urllib3-1.26.9\n",
            "\u001b[31mERROR: pip's dependency resolver does not currently take into account all the packages that are installed. This behaviour is the source of the following dependency conflicts.\n",
            "selenium 4.1.3 requires urllib3[secure,socks]~=1.26, but you have urllib3 1.25.11 which is incompatible.\n",
            "datascience 0.10.6 requires folium==0.2.1, but you have folium 0.8.3 which is incompatible.\u001b[0m\n",
            "Successfully installed urllib3-1.25.11\n"
          ]
        },
        {
          "output_type": "display_data",
          "data": {
            "application/vnd.colab-display-data+json": {
              "pip_warning": {
                "packages": [
                  "urllib3"
                ]
              }
            }
          },
          "metadata": {}
        },
        {
          "output_type": "stream",
          "name": "stdout",
          "text": [
            "\u001b[31mERROR: Could not find a version that satisfies the requirement soynlp.normalizer (from versions: none)\u001b[0m\n",
            "\u001b[31mERROR: No matching distribution found for soynlp.normalizer\u001b[0m\n",
            "Requirement already satisfied: webdriver-manager in /usr/local/lib/python3.7/dist-packages (3.5.4)\n",
            "Requirement already satisfied: requests in /usr/local/lib/python3.7/dist-packages (from webdriver-manager) (2.23.0)\n",
            "Requirement already satisfied: certifi>=2017.4.17 in /usr/local/lib/python3.7/dist-packages (from requests->webdriver-manager) (2021.10.8)\n",
            "Requirement already satisfied: idna<3,>=2.5 in /usr/local/lib/python3.7/dist-packages (from requests->webdriver-manager) (2.10)\n",
            "Requirement already satisfied: chardet<4,>=3.0.2 in /usr/local/lib/python3.7/dist-packages (from requests->webdriver-manager) (3.0.4)\n",
            "Requirement already satisfied: urllib3!=1.25.0,!=1.25.1,<1.26,>=1.21.1 in /usr/local/lib/python3.7/dist-packages (from requests->webdriver-manager) (1.25.11)\n",
            "Collecting soynlp\n",
            "  Downloading soynlp-0.0.493-py3-none-any.whl (416 kB)\n",
            "\u001b[K     |████████████████████████████████| 416 kB 24.0 MB/s \n",
            "\u001b[?25hRequirement already satisfied: scikit-learn>=0.20.0 in /usr/local/lib/python3.7/dist-packages (from soynlp) (1.0.2)\n",
            "Requirement already satisfied: scipy>=1.1.0 in /usr/local/lib/python3.7/dist-packages (from soynlp) (1.4.1)\n",
            "Requirement already satisfied: psutil>=5.0.1 in /usr/local/lib/python3.7/dist-packages (from soynlp) (5.4.8)\n",
            "Requirement already satisfied: numpy>=1.12.1 in /usr/local/lib/python3.7/dist-packages (from soynlp) (1.21.5)\n",
            "Requirement already satisfied: threadpoolctl>=2.0.0 in /usr/local/lib/python3.7/dist-packages (from scikit-learn>=0.20.0->soynlp) (3.1.0)\n",
            "Requirement already satisfied: joblib>=0.11 in /usr/local/lib/python3.7/dist-packages (from scikit-learn>=0.20.0->soynlp) (1.1.0)\n",
            "Installing collected packages: soynlp\n",
            "Successfully installed soynlp-0.0.493\n"
          ]
        }
      ]
    },
    {
      "cell_type": "code",
      "execution_count": null,
      "metadata": {
        "colab": {
          "base_uri": "https://localhost:8080/"
        },
        "id": "q0oojxIAYi9g",
        "outputId": "13b90ad9-52bd-4832-a393-9920e3f8b10d"
      },
      "outputs": [
        {
          "output_type": "stream",
          "name": "stdout",
          "text": [
            "0.0.493\n"
          ]
        }
      ],
      "source": [
        "import pandas as pd\n",
        "import seaborn as sns\n",
        "import matplotlib.pyplot as plt\n",
        "import requests\n",
        "\n",
        "from selenium import webdriver\n",
        "import time\n",
        "from openpyxl import Workbook\n",
        "from selenium.webdriver.common.keys import Keys\n",
        "from bs4 import BeautifulSoup\n",
        "from webdriver_manager.chrome import ChromeDriverManager\n",
        "\n",
        "from pororo import Pororo\n",
        "import sys\n",
        "sys.path.insert(0, '../')\n",
        "import soynlp\n",
        "from soynlp.normalizer import *\n",
        "\n",
        "print(soynlp.__version__)"
      ]
    },
    {
      "cell_type": "markdown",
      "source": [
        "# 2021-8~2022-2 트게더 크롤링"
      ],
      "metadata": {
        "id": "DUJhIwGFbHR-"
      }
    },
    {
      "cell_type": "code",
      "source": [
        "headers = {\"User-Agent\":\"Mozilla/5.0 (Windows NT 10.0; Win64; x64) AppleWebKit/537.36 (KHTML, like Gecko) Chrome/99.0.4844.51 Safari/537.36\"}\n",
        "\n",
        "title_list = []\n",
        "date_list = []\n",
        "\n",
        "pagenum = \n",
        "pagenum2 = \n",
        "\n",
        "for i in range(pagenum, pagenum2): # range 내 pagenum, pagenum2 은 트게더 게시판 직접 확인 후 21년 8월부터 22년 2월 사이 page 로 설정\n",
        "    url = \"https://tgd.kr/s/셀럽주소/page/\" + str(i)\n",
        "\n",
        "    res = requests.get(url, headers=headers)\n",
        "    res.raise_for_status()\n",
        "    soup = BeautifulSoup(res.text, \"lxml\")\n",
        "\n",
        "    articles = soup.find(\"div\", id=\"article-list\")\n",
        "    items = articles.find_all(\"div\", attrs={\"class\":\"item\"})\n",
        "    for item in items:\n",
        "        title = item.find(\"a\").get_text().strip()\n",
        "        print(title)\n",
        "        title_list.append(title)\n",
        "        date = item.find(\"div\", attrs={\"class\":\"list-time\"}).get_text().strip()\n",
        "        print(date)\n",
        "        date_list.append(date)\n",
        "\n",
        "pd_data = {\"셀럽명\": \"셀럽병\", \"제목\" : title_list , \"날짜\" : date_list}\n",
        "tgd_pd = pd.DataFrame(pd_data)\n",
        "\n",
        "tgd_pd.to_csv(\"셀럽명.csv\", index=False, encoding='utf-8-sig')"
      ],
      "metadata": {
        "id": "yuJpW7GIcZub"
      },
      "execution_count": null,
      "outputs": []
    },
    {
      "cell_type": "markdown",
      "source": [
        "# **전처리 (셀럽 별 csv 병합 과정 생략)**"
      ],
      "metadata": {
        "id": "WgDWvF2Rc0Fy"
      }
    },
    {
      "cell_type": "code",
      "source": [
        "df = pd.read_csv('/content/drive/MyDrive/fancim_tgd.csv') # 팬심을 사용하는 셀럽의 트게더\n",
        "df1 = pd.read_csv('/content/drive/MyDrive/nonfancim_tgd.csv') # 팬심을 사용하지 않는 셀럽의 트게더"
      ],
      "metadata": {
        "id": "miZj59I0gw4s"
      },
      "execution_count": null,
      "outputs": []
    },
    {
      "cell_type": "code",
      "source": [
        "df = df.drop(df[df['제목'].str.contains('일정')].index) # 137개\n",
        "df = df.drop(df[df['제목'].str.contains('공지')].index)# 217개\n",
        "df = df.drop(df[df['제목'] == '오늘'].index) # 48개"
      ],
      "metadata": {
        "id": "GhZeC4cTgylX"
      },
      "execution_count": null,
      "outputs": []
    },
    {
      "cell_type": "code",
      "source": [
        "df1 = df1.drop(df[df['제목'].str.contains('일정')].index) # 1개\n",
        "df1 = df1.drop(df[df['제목'].str.contains('공지')].index)# 6개\n",
        "df1 = df1.drop(df[df['제목'] == '오늘'].index) # 2개"
      ],
      "metadata": {
        "id": "MM3ww4-giyn0"
      },
      "execution_count": null,
      "outputs": []
    },
    {
      "cell_type": "code",
      "source": [
        "df['제목'] = df['제목'].apply(repeat_normalize)\n",
        "df['제목'] = df['제목'].apply(only_hangle)\n",
        "\n",
        "stop_words = ['ㄱ','ㄴ','ㄷ','ㄹ','ㅁ','ㅂ','ㅅ','ㅇ','ㅈ','ㅊ','ㅋ','ㅌ','ㅍ','ㅎ',\n",
        "              'ㅏ','ㅑ','ㅓ','ㅕ','ㅜ','ㅠ','ㅡ','ㅣ',\n",
        "              'ㄱㄱ','ㄴㄴ','ㄷㄷ','ㄹㄹ','ㅁㅁ','ㅂㅂ','ㅅㅅ','ㅇㅇ','ㅈㅈ','ㅊㅊ','ㅋㅋ','ㅌㅌ','ㅍㅍ','ㅎㅎ',\n",
        "              'ㅏㅏ','ㅑㅑ','ㅓㅓ','ㅕㅕ','ㅜㅜ','ㅠㅠ','ㅡㅡ','ㅣㅣ']\n",
        "\n",
        "for w in stop_words:\n",
        "  df['제목'] = df['제목'].replace(w,'', regex=True)"
      ],
      "metadata": {
        "id": "GNgaFU3pg0s5"
      },
      "execution_count": null,
      "outputs": []
    },
    {
      "cell_type": "code",
      "source": [
        "df1['제목'] = df1['제목'].apply(repeat_normalize)\n",
        "df1['제목'] = df1['제목'].apply(only_hangle)\n",
        "\n",
        "for w in stop_words:\n",
        "  df1['제목'] = df1['제목'].replace(w,'', regex=True)"
      ],
      "metadata": {
        "id": "v88XJutXi6ez"
      },
      "execution_count": null,
      "outputs": []
    },
    {
      "cell_type": "markdown",
      "source": [
        "# **감성분석**"
      ],
      "metadata": {
        "id": "0am9NN8EgIy3"
      }
    },
    {
      "cell_type": "markdown",
      "source": [
        "## 팬심을 사용하는 데이터 전처리 및 감성분석"
      ],
      "metadata": {
        "id": "nO8cCYNkhfAv"
      }
    },
    {
      "cell_type": "code",
      "source": [
        "# Pororo 라이브러리 불러오기\n",
        "sa = Pororo(task=\"sentiment\", model=\"brainbert.base.ko.nsmc\", lang=\"ko\")\n",
        "sh = Pororo(task=\"sentiment\", model=\"brainbert.base.ko.shopping\", lang=\"ko\")"
      ],
      "metadata": {
        "id": "Bz2Py-vkguzq"
      },
      "execution_count": null,
      "outputs": []
    },
    {
      "cell_type": "code",
      "source": [
        "# 0.7이상일때 부정적 판단을 위한 함수\n",
        "def check_neg(dic):\n",
        "    if dic['negative'] >= 0.7:\n",
        "        return 'negative'\n",
        "    else:\n",
        "        return 'positive'"
      ],
      "metadata": {
        "id": "TDHWJ2ZagU3d"
      },
      "execution_count": null,
      "outputs": []
    },
    {
      "cell_type": "code",
      "source": [
        "# 감성분석 라이브러리 적용\n",
        "df['labels_ns'] = df['댓글'].apply(sa, show_probs=True)\n",
        "df['labels_sh'] = df['댓글'].apply(sh, show_probs=True)\n",
        "\n",
        "df['labels_ns_threshold'] = df['labels_ns'].apply(check_neg)\n",
        "df['labels_sh_threshold'] = df['labels_sh'].apply(check_neg)\n",
        "df['both_labels'] = 'positive'\n",
        "df.loc[(df['labels_ns_threshold']=='negative')&(df['labels_sh_threshold']=='negative'), 'both_labels'] = 'negative'"
      ],
      "metadata": {
        "id": "_6ELsY-ngWIc"
      },
      "execution_count": null,
      "outputs": []
    },
    {
      "cell_type": "code",
      "source": [
        "# 사용할 컬럼만 남기기\n",
        "df = df[['셀럽명', '제목', '날짜', 'both_labels']]"
      ],
      "metadata": {
        "id": "8QReZECngY3o"
      },
      "execution_count": null,
      "outputs": []
    },
    {
      "cell_type": "code",
      "source": [
        "# 확인 및 보관용 csv 파일저장\n",
        "df.to_csv('fancim_tgd_labels.csv', index=False, encoding='utf-8-sig')"
      ],
      "metadata": {
        "id": "Spjiyi5KghKa"
      },
      "execution_count": null,
      "outputs": []
    },
    {
      "cell_type": "markdown",
      "source": [
        "## 팬심을 사용하지 않는 데이터 전처리 및 감성분석"
      ],
      "metadata": {
        "id": "jitcE7pahgDN"
      }
    },
    {
      "cell_type": "code",
      "source": [
        "# 감성분석 라이브러리 적용\n",
        "df1['labels_ns'] = df1['댓글'].apply(sa, show_probs=True)\n",
        "df1['labels_sh'] = df1['댓글'].apply(sh, show_probs=True)\n",
        "\n",
        "df1['labels_ns_threshold'] = df1['labels_ns'].apply(check_neg)\n",
        "df1['labels_sh_threshold'] = df1['labels_sh'].apply(check_neg)\n",
        "df1['both_labels'] = 'positive'\n",
        "df1.loc[(df1['labels_ns_threshold']=='negative')&(df1['labels_sh_threshold']=='negative'), 'both_labels'] = 'negative'"
      ],
      "metadata": {
        "id": "tIIzhHDrhrAF"
      },
      "execution_count": null,
      "outputs": []
    },
    {
      "cell_type": "code",
      "source": [
        "# 사용할 컬럼만 남기기\n",
        "df1 = df1[['셀럽명','제목','날짜','both_labels']]"
      ],
      "metadata": {
        "id": "p5fAQGK_jKmB"
      },
      "execution_count": null,
      "outputs": []
    },
    {
      "cell_type": "code",
      "source": [
        "# 확인 및 보관용 csv 파일저장\n",
        "df1.to_csv('non_fancim_tgd_labels.csv', index=False, encoding='utf-8-sig')"
      ],
      "metadata": {
        "id": "ffk2c-nKjJWb"
      },
      "execution_count": null,
      "outputs": []
    }
  ]
}