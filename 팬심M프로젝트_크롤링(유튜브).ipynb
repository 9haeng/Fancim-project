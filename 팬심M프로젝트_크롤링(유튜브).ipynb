{
  "nbformat": 4,
  "nbformat_minor": 0,
  "metadata": {
    "colab": {
      "name": "팬심M프로젝트-크롤링(유튜브).ipynb",
      "provenance": [],
      "collapsed_sections": []
    },
    "kernelspec": {
      "name": "python3",
      "display_name": "Python 3"
    },
    "language_info": {
      "name": "python"
    }
  },
  "cells": [
    {
      "cell_type": "markdown",
      "source": [
        "# 라이브러리 불러오기"
      ],
      "metadata": {
        "id": "pxsdjoOEJR05"
      }
    },
    {
      "cell_type": "code",
      "execution_count": null,
      "metadata": {
        "id": "f8ZLF3KwHu6T"
      },
      "outputs": [],
      "source": [
        "import pandas as pd\n",
        "import seaborn as sns\n",
        "import matplotlib.pyplot as plt\n",
        "\n",
        "from selenium import webdriver\n",
        "import time\n",
        "from openpyxl import Workbook\n",
        "from selenium.webdriver.common.keys import Keys\n",
        "from bs4 import BeautifulSoup\n",
        "from webdriver_manager.chrome import ChromeDriverManager\n",
        "\n",
        "from pororo import Pororo\n",
        "import sys\n",
        "sys.path.insert(0, '../')\n",
        "import soynlp\n",
        "from soynlp.normalizer import *\n",
        "\n",
        "print(soynlp.__version__)"
      ]
    },
    {
      "cell_type": "code",
      "source": [
        "# 셀레니움 옵션 설정\n",
        "wb = Workbook(write_only=True)\n",
        "ws = wb.create_sheet()\n",
        "\n",
        "options = webdriver.ChromeOptions() \n",
        "options.add_argument('headless') # 크롬 띄우는 창 없애기\n",
        "options.add_argument('window-size=1920x1080') \n",
        "options.add_argument(\"disable-gpu\") #그래픽 성능 낮춰서 크롤링 성능 높이기 \n",
        "options.add_argument(\"user-agent=Mozilla/5.0 (Windows NT 10.0; Win64; x64) AppleWebKit/537.36 (KHTML, like Gecko) Chrome/99.0.4844.51 Safari/537.36\") # 네트워크 설정 \n",
        "options.add_argument(\"lang=ko_KR\") # 사이트 주언어 \n",
        "driver = webdriver.Chrome(ChromeDriverManager().install(), chrome_options=options) "
      ],
      "metadata": {
        "id": "YDjdYF7kKDeC"
      },
      "execution_count": null,
      "outputs": []
    },
    {
      "cell_type": "code",
      "source": [
        "# Pororo 라이브러리 불러오기\n",
        "sa = Pororo(task=\"sentiment\", model=\"brainbert.base.ko.nsmc\", lang=\"ko\")\n",
        "sh = Pororo(task=\"sentiment\", model=\"brainbert.base.ko.shopping\", lang=\"ko\")"
      ],
      "metadata": {
        "id": "_tQCnfbHH9G-"
      },
      "execution_count": null,
      "outputs": []
    },
    {
      "cell_type": "markdown",
      "source": [
        "# 2021-8~2022-2 유튜브 리스트 크롤링"
      ],
      "metadata": {
        "id": "6kuwbQrPI-4h"
      }
    },
    {
      "cell_type": "code",
      "source": [
        "# DB.xlsx에서 URL리스트와 채널리스트 불러오기\n",
        "ytb_pd = pd.read_excel(\"DB.xlsx\")\n",
        "def plus_str(text):\n",
        "    return text + \"/videos\"\n",
        "url_list = ytb_pd.iloc[:,1].apply(plus_str).to_list()\n",
        "channel_list = ytb_pd.iloc[:,3].to_list()\n",
        "ytb_dict = dict(zip(channel_list,url_list))"
      ],
      "metadata": {
        "id": "dQNBz0hfJWWV"
      },
      "execution_count": null,
      "outputs": []
    },
    {
      "cell_type": "code",
      "source": [
        "# 유튜브 리스트 크롤링\n",
        "df = pd.DataFrame(columns=['채널명', '비디오_url', \"텍스트\"]) # 유튜브 리스트를 저장할 데이터 프레임\n",
        "cnt = 0 # 작업진행도 확인을 위한 변수\n",
        "for channel, url in ytb_dict.items():\n",
        "    driver.get(url) \n",
        "    driver.implicitly_wait(3)\n",
        "    time.sleep(1.5)\n",
        "    driver.execute_script(\"window.scrollTo(0, 800)\")\n",
        "    time.sleep(3)\n",
        "\n",
        "    # 페이지 끝까지 스크롤\n",
        "    last_height = driver.execute_script(\"return document.documentElement.scrollHeight\")\n",
        "\n",
        "    while True:\n",
        "        driver.execute_script(\"window.scrollTo(0, document.documentElement.scrollHeight);\")\n",
        "        time.sleep(1.5)\n",
        "\n",
        "        new_height = driver.execute_script(\"return document.documentElement.scrollHeight\")\n",
        "        if new_height == last_height:\n",
        "            break\n",
        "        last_height = new_height\n",
        "\n",
        "    time.sleep(1.5)\n",
        "    \n",
        "    # 정보 추출하기\n",
        "    html_source = driver.page_source\n",
        "    soup = BeautifulSoup(html_source, 'html.parser')\n",
        "\n",
        "    video_list = soup.select(\"h3>a\")\n",
        "    for video in video_list:\n",
        "        aria = video.get('aria-label')\n",
        "        base_url = \"https://www.youtube.com\"\n",
        "        video_url = base_url + video.get('href')\n",
        "        df = df.append(pd.DataFrame([[channel, video_url, aria]], columns=['채널명', '비디오_url', \"텍스트\"]))\n",
        "    \n",
        "    # 작업진행도 확인\n",
        "    cnt += 1\n",
        "    print(\"50개 중\", cnt, \"개 완료\", channel, \"까지 완료\")\n",
        "\n",
        "df = df.reset_index()\n",
        "df = df.iloc[:,1:]"
      ],
      "metadata": {
        "id": "2Yrm4TH_Jpdh"
      },
      "execution_count": null,
      "outputs": []
    },
    {
      "cell_type": "markdown",
      "source": [
        "## 유튜브 리스트 전처리"
      ],
      "metadata": {
        "id": "IHiJ2rjjKnqw"
      }
    },
    {
      "cell_type": "code",
      "source": [
        "# 텍스트에서 날짜 분리하는 함수\n",
        "def check(text):\n",
        "  text = text.split(\"게시자: \" + channel)[1]\n",
        "  if \"스트리밍\" in text:\n",
        "    temp = text.split(\"스트리밍 시간: \")[1].split()\n",
        "  else:\n",
        "    temp = text.split()\n",
        "  return temp[0]"
      ],
      "metadata": {
        "id": "nz4ww23dL5vg"
      },
      "execution_count": null,
      "outputs": []
    },
    {
      "cell_type": "code",
      "source": [
        "# 날짜 컬럼 만들기\n",
        "df[\"날짜\"] = None\n",
        "channels = df['채널명'].unique()\n",
        "for channel in channels:\n",
        "  df.loc[df['채널명']== channel, \"날짜\"] = df.loc[df['채널명']== channel, \"텍스트\"].apply(check)"
      ],
      "metadata": {
        "id": "Wu-A5fP2MT-d"
      },
      "execution_count": null,
      "outputs": []
    },
    {
      "cell_type": "code",
      "source": [
        "# 2021-08~2022-02 날짜 지정\n",
        "df = df[(df[\"날짜\"] == '3주') | (df[\"날짜\"] == '1개월') | (df[\"날짜\"] == '2개월') | (df[\"날짜\"] == '3개월') | \n",
        "        (df[\"날짜\"] == '4개월')| (df[\"날짜\"] == '5개월') | (df[\"날짜\"] == '6개월') | (df[\"날짜\"] == '7개월')]"
      ],
      "metadata": {
        "id": "jPPzfS_xMejP"
      },
      "execution_count": null,
      "outputs": []
    },
    {
      "cell_type": "code",
      "source": [
        "# 사용할 컬럼만 남기기\n",
        "df = df[[\"채널명\", \"비디오_url\", \"날짜\"]]\n",
        "df.shape"
      ],
      "metadata": {
        "colab": {
          "base_uri": "https://localhost:8080/"
        },
        "id": "MZWHmrF7QchM",
        "outputId": "160709f5-7dd7-4ad6-d577-f4ec90dc3b9d"
      },
      "execution_count": null,
      "outputs": [
        {
          "output_type": "execute_result",
          "data": {
            "text/plain": [
              "(2656, 3)"
            ]
          },
          "metadata": {},
          "execution_count": 6
        }
      ]
    },
    {
      "cell_type": "code",
      "source": [
        "# 팬심을 사용하는 데이터 확인하기 위한 함수\n",
        "def check_fan(text):\n",
        "  if text in fan:\n",
        "    return \"o\"\n",
        "  else:\n",
        "    return \"x\""
      ],
      "metadata": {
        "id": "58BhDj0aQ3P6"
      },
      "execution_count": null,
      "outputs": []
    },
    {
      "cell_type": "code",
      "source": [
        "df['팬심사용여부'] = None\n",
        "\n",
        "fan = ['나윤', '망득이', '체리아씨 [무편집풀영상]', 'Vtuber고야', '김씨할매', \n",
        "       '먹체토','초하이텐션 잉싸', '권율', \"체리쉬_Cherry'sh\", '플루트레미 Flute Remi', 'MIJU 미주',\n",
        "       '캄나', '어써미채널', 'Singing Lfreda', '새담', '윈드아재 콘솔게임전문채널', '벼보리',\n",
        "       'ONTIME 온타임', '재미있다 유튜브', '인간 김위칭', '갱맘TV', '임선비'] # 팬심 셀럽 리스트 \n",
        "\n",
        "# 팬심을 사용할 경우 'o', 사용하지 않을 경우 'x'\n",
        "df['팬심사용여부'] = df['채널명'].apply(check_fan)\n",
        "fan_df = df[df['팬심사용여부'] == 'o']\n",
        "print(fan_df.shape)\n",
        "nofan_df = df[df['팬심사용여부'] == 'x']\n",
        "print(nofan_df.shape)"
      ],
      "metadata": {
        "colab": {
          "base_uri": "https://localhost:8080/"
        },
        "id": "vu7tAhG4Qu9_",
        "outputId": "b342a551-6f32-4a5d-a9f2-e86ad6674b30"
      },
      "execution_count": null,
      "outputs": [
        {
          "output_type": "stream",
          "name": "stdout",
          "text": [
            "(887, 4)\n",
            "(1769, 4)\n"
          ]
        }
      ]
    },
    {
      "cell_type": "code",
      "source": [
        "# 확인 및 보관용 csv 파일저장\n",
        "fan_df.to_csv('ytb_list_fan.csv', index=False, encoding=\"utf-8-sig\")\n",
        "nofan_df.to_csv('ytb_list_nofan.csv', index=False, encoding=\"utf-8-sig\")"
      ],
      "metadata": {
        "id": "nfDucEywRoeS"
      },
      "execution_count": null,
      "outputs": []
    },
    {
      "cell_type": "markdown",
      "source": [
        "# 유튜브 댓글 크롤링"
      ],
      "metadata": {
        "id": "5GyI-N3vSJR_"
      }
    },
    {
      "cell_type": "code",
      "source": [
        "# 팬심을 사용하는 셀럽 유튜브 댓글 트롤링\n",
        "df = pd.DataFrame(columns=['채널명', '댓글', \"날짜\"]) # 유튜브 댓글을 저장할 데이터 프레임\n",
        "\n",
        "for i in range(len(fan_df)):\n",
        "\n",
        "    channel  = fan_df.iloc[i,0]\n",
        "    URL = fan_df.iloc[i,1]\n",
        "\n",
        "    driver.get(URL)\n",
        "    driver.implicitly_wait(2)\n",
        "\n",
        "    driver.execute_script(\"window.scrollTo(0, 800)\")\n",
        "    time.sleep(2)\n",
        "\n",
        "    # 페이지 끝까지 스크롤\n",
        "    last_height = driver.execute_script(\"return document.documentElement.scrollHeight\")\n",
        "\n",
        "    while True:\n",
        "        driver.execute_script(\"window.scrollTo(0, document.documentElement.scrollHeight);\")\n",
        "        time.sleep(1)\n",
        "\n",
        "        new_height = driver.execute_script(\"return document.documentElement.scrollHeight\")\n",
        "        if new_height == last_height:\n",
        "            break\n",
        "        last_height = new_height\n",
        "\n",
        "    time.sleep(1)\n",
        "\n",
        "    # 정보 추출하기\n",
        "    html_source = driver.page_source\n",
        "    soup = BeautifulSoup(html_source, 'html.parser')\n",
        "\n",
        "    comment_list = soup.select(\"yt-formatted-string#content-text\")\n",
        "    date_list = soup.select(\"div#header-author > yt-formatted-string > a\")\n",
        "\n",
        "\n",
        "    for j in range(len(comment_list)):\n",
        "        comment = comment_list[j].text.strip()\n",
        "\n",
        "        date = date_list[j].text.strip()\n",
        "        df = df.append(pd.DataFrame([[channel, comment, date]], columns=['채널명', '댓글', \"날짜\"]))\n",
        "    # 작업진행도 확인\n",
        "    print(\"887개 중\", i, \"개 완료\", channel, \"까지 완료\")\n",
        "\n",
        "df = df.reset_index()\n",
        "df = df.iloc[:,1:]\n",
        "print(df)\n",
        "# 확인 및 보관용 csv 파일저장\n",
        "df.to_csv('ytb_crawling_fan_전처리전.csv', index=False, encoding=\"utf-8-sig\")"
      ],
      "metadata": {
        "id": "8zGR4AIDKlb3"
      },
      "execution_count": null,
      "outputs": []
    },
    {
      "cell_type": "code",
      "source": [
        "# 팬심을 사용하지 않는 셀럽 유튜브 댓글 트롤링\n",
        "df = pd.DataFrame(columns=['채널명', '댓글', \"날짜\"]) # 유튜브 댓글을 저장할 데이터 프레임\n",
        "\n",
        "for i in range(len(nofan_df)):\n",
        "\n",
        "    channel  = nofan_df.iloc[i,0]\n",
        "    URL = nofan_df.iloc[i,1]\n",
        "\n",
        "    driver.get(URL)\n",
        "    driver.implicitly_wait(2)\n",
        "\n",
        "    driver.execute_script(\"window.scrollTo(0, 800)\")\n",
        "    time.sleep(2)\n",
        "\n",
        "    # 페이지 끝까지 스크롤\n",
        "    last_height = driver.execute_script(\"return document.documentElement.scrollHeight\")\n",
        "\n",
        "    while True:\n",
        "        driver.execute_script(\"window.scrollTo(0, document.documentElement.scrollHeight);\")\n",
        "        time.sleep(1)\n",
        "\n",
        "        new_height = driver.execute_script(\"return document.documentElement.scrollHeight\")\n",
        "        if new_height == last_height:\n",
        "            break\n",
        "        last_height = new_height\n",
        "\n",
        "    time.sleep(1)\n",
        "\n",
        "    # 정보 추출하기\n",
        "    html_source = driver.page_source\n",
        "    soup = BeautifulSoup(html_source, 'html.parser')\n",
        "\n",
        "    comment_list = soup.select(\"yt-formatted-string#content-text\")\n",
        "    date_list = soup.select(\"div#header-author > yt-formatted-string > a\")\n",
        "\n",
        "\n",
        "    for j in range(len(comment_list)):\n",
        "        comment = comment_list[j].text.strip()\n",
        "\n",
        "        date = date_list[j].text.strip()\n",
        "        df = df.append(pd.DataFrame([[channel, comment, date]], columns=['채널명', '댓글', \"날짜\"]))\n",
        "\n",
        "    # 작업진행도 확인\n",
        "    print(\"1769개 중\", i, \"개 완료\", channel, \"까지 완료\")\n",
        "\n",
        "df = df.reset_index()\n",
        "df = df.iloc[:,1:]\n",
        "print(df)\n",
        "# 확인 및 보관용 csv 파일저장\n",
        "df.to_csv('ytb_crawling_nofan_전처리전.csv', index=False, encoding=\"utf-8-sig\")"
      ],
      "metadata": {
        "id": "sX-P_C7DUBnN"
      },
      "execution_count": null,
      "outputs": []
    },
    {
      "cell_type": "markdown",
      "source": [
        "# 크롤링 완료한 데이터 전처리 및 감성분석"
      ],
      "metadata": {
        "id": "giSNsBmNUtpF"
      }
    },
    {
      "cell_type": "markdown",
      "source": [
        "## 팬심을 사용하는 데이터 전처리 및 감성분석"
      ],
      "metadata": {
        "id": "QGQQGjNhVbGw"
      }
    },
    {
      "cell_type": "markdown",
      "source": [
        "### 전처리"
      ],
      "metadata": {
        "id": "ISqzBobTWixZ"
      }
    },
    {
      "cell_type": "code",
      "source": [
        "df = pd.read_csv('/content/drive/MyDrive/CP2_Fancim/ytb_crawling_fan_전처리전.csv')\n",
        "df.head()"
      ],
      "metadata": {
        "id": "sP9Sv6DKVhnI"
      },
      "execution_count": null,
      "outputs": []
    },
    {
      "cell_type": "code",
      "source": [
        "# 날짜 데이터 처리를 위한 함수\n",
        "def check(text):\n",
        "  if (\"일 전\" in text) or (\"2주 전\" in text) or (\"시간\" in text) or (\"8개월\" in text)or (\"분 전\" in text):\n",
        "    return None\n",
        "  return text"
      ],
      "metadata": {
        "id": "AGwU6LSIVqQB"
      },
      "execution_count": null,
      "outputs": []
    },
    {
      "cell_type": "code",
      "source": [
        "# 전처리\n",
        "df['댓글'] = df['댓글'].apply(str)\n",
        "df['날짜'] = df['날짜'].apply(check)\n",
        "df.dropna(axis=0, inplace=True)\n",
        "\n",
        "df = df.drop(df[df['댓글']==' '].index)\n",
        "df = df.drop(df[df['댓글']==''].index)\n",
        "df = df.drop(df[df['댓글'].str.len()==1].index)\n",
        "df = df[df['댓글'].str.len()<512]\n",
        "\n",
        "df['댓글'] = df['댓글'].apply(only_hangle)\n",
        "df['댓글'] = df['댓글'].apply(repeat_normalize)\n",
        "\n",
        "stop_words = ['ㄱ','ㄴ','ㄷ','ㄹ','ㅁ','ㅂ','ㅅ','ㅇ','ㅈ','ㅊ','ㅋ','ㅌ','ㅍ','ㅎ',\n",
        "              'ㅏ','ㅑ','ㅓ','ㅕ','ㅜ','ㅠ','ㅡ','ㅣ',\n",
        "              'ㄱㄱ','ㄴㄴ','ㄷㄷ','ㄹㄹ','ㅁㅁ','ㅂㅂ','ㅅㅅ','ㅇㅇ','ㅈㅈ','ㅊㅊ','ㅋㅋ','ㅌㅌ','ㅍㅍ','ㅎㅎ',\n",
        "              'ㅏㅏ','ㅑㅑ','ㅓㅓ','ㅕㅕ','ㅜㅜ','ㅠㅠ','ㅡㅡ','ㅣㅣ',\n",
        "              '\\n']\n",
        "\n",
        "for w in stop_words:\n",
        "  df['댓글'] = df['댓글'].replace(w,'', regex=True)"
      ],
      "metadata": {
        "id": "wpgrZFjoVsB0"
      },
      "execution_count": null,
      "outputs": []
    },
    {
      "cell_type": "code",
      "source": [
        "# 날짜 데이터 형식 변경\n",
        "con = (df['날짜'] == '3주 전') | (df['날짜'] == '3 weeks ago (edited)')\n",
        "df.loc[con, 'month'] = '2022-02'\n",
        "con = (df['날짜'] == '1개월 전') | (df['날짜'] == '1개월 전(수정됨)')\n",
        "df.loc[con, 'month'] = '2022-02'\n",
        "con = (df['날짜'] == '2개월 전') | (df['날짜'] == '2개월 전(수정됨)')\n",
        "df.loc[con, 'month'] = '2022-01'\n",
        "con = (df['날짜'] == '3개월 전') | (df['날짜'] == '3개월 전(수정됨)')\n",
        "df.loc[con, 'month'] = '2021-12'\n",
        "con = (df['날짜'] == '4개월 전') | (df['날짜'] == '4개월 전(수정됨)')\n",
        "df.loc[con, 'month'] = '2021-11'\n",
        "con = (df['날짜'] == '5개월 전') | (df['날짜'] == '5개월 전(수정됨)')\n",
        "df.loc[con, 'month'] = '2021-10'\n",
        "con = (df['날짜'] == '6개월 전') | (df['날짜'] == '6개월 전(수정됨)')\n",
        "df.loc[con, 'month'] = '2021-09'\n",
        "con = (df['날짜'] == '7개월 전') | (df['날짜'] == '7개월 전(수정됨)')\n",
        "df.loc[con, 'month'] = '2021-08'"
      ],
      "metadata": {
        "id": "jkFOzNgWXkVG"
      },
      "execution_count": null,
      "outputs": []
    },
    {
      "cell_type": "markdown",
      "source": [
        "### 감성분석"
      ],
      "metadata": {
        "id": "rfPNlNdxW5yX"
      }
    },
    {
      "cell_type": "code",
      "source": [
        "# 0.7이상일때 부정적 판단을 위한 함수\n",
        "def check_neg(dic):\n",
        "    if dic['negative'] >= 0.7:\n",
        "        return 'negative'\n",
        "    else:\n",
        "        return 'positive'"
      ],
      "metadata": {
        "id": "ARLsUFp9W7vg"
      },
      "execution_count": null,
      "outputs": []
    },
    {
      "cell_type": "code",
      "source": [
        "# 감성분석 라이브러리 적용\n",
        "df['labels_ns'] = df['댓글'].apply(sa, show_probs=True)\n",
        "df['labels_sh'] = df['댓글'].apply(sh, show_probs=True)\n",
        "\n",
        "df['labels_ns_threshold'] = df['labels_ns'].apply(check_neg)\n",
        "df['labels_sh_threshold'] = df['labels_sh'].apply(check_neg)\n",
        "df['both_labels'] = 'positive'\n",
        "df.loc[(df['labels_ns_threshold']=='negative')&(df['labels_sh_threshold']=='negative'), 'both_labels'] = 'negative'"
      ],
      "metadata": {
        "id": "-63Pzp4sVvPF"
      },
      "execution_count": null,
      "outputs": []
    },
    {
      "cell_type": "code",
      "source": [
        "# 사용할 컬럼만 남기기\n",
        "df = df[['채널명', '댓글', 'month', 'both_labels']]"
      ],
      "metadata": {
        "id": "BI_MACYrXx4U"
      },
      "execution_count": null,
      "outputs": []
    },
    {
      "cell_type": "code",
      "source": [
        "# 확인 및 보관용 csv 파일저장\n",
        "df.to_csv('fancim_ytb_labels.csv', index=False, encoding='utf-8-sig')"
      ],
      "metadata": {
        "id": "kFvHHeZ9YBlY"
      },
      "execution_count": null,
      "outputs": []
    },
    {
      "cell_type": "markdown",
      "source": [
        "## 팬심을 사용하지 않는 데이터 전처리 및 감성분석"
      ],
      "metadata": {
        "id": "GXhdBLBDYgjx"
      }
    },
    {
      "cell_type": "markdown",
      "source": [
        "### 전처리"
      ],
      "metadata": {
        "id": "74PPDyqtYoQW"
      }
    },
    {
      "cell_type": "code",
      "source": [
        "df = pd.read_csv('/content/drive/MyDrive/CP2_Fancim/ytb_crawling_nofan_전처리전.csv')\n",
        "df.head()"
      ],
      "metadata": {
        "id": "oMm0CrAPYice"
      },
      "execution_count": null,
      "outputs": []
    },
    {
      "cell_type": "code",
      "source": [
        "# 전처리\n",
        "df['댓글'] = df['댓글'].apply(str)\n",
        "df['날짜'] = df['날짜'].apply(check)\n",
        "df.dropna(axis=0, inplace=True)\n",
        "\n",
        "df = df.drop(df[df['댓글']==' '].index)\n",
        "df = df.drop(df[df['댓글']==''].index)\n",
        "df = df.drop(df[df['댓글'].str.len()==1].index)\n",
        "df = df[df['댓글'].str.len()<512]\n",
        "\n",
        "df['댓글'] = df['댓글'].apply(only_hangle)\n",
        "df['댓글'] = df['댓글'].apply(repeat_normalize)\n",
        "\n",
        "stop_words = ['ㄱ','ㄴ','ㄷ','ㄹ','ㅁ','ㅂ','ㅅ','ㅇ','ㅈ','ㅊ','ㅋ','ㅌ','ㅍ','ㅎ',\n",
        "              'ㅏ','ㅑ','ㅓ','ㅕ','ㅜ','ㅠ','ㅡ','ㅣ',\n",
        "              'ㄱㄱ','ㄴㄴ','ㄷㄷ','ㄹㄹ','ㅁㅁ','ㅂㅂ','ㅅㅅ','ㅇㅇ','ㅈㅈ','ㅊㅊ','ㅋㅋ','ㅌㅌ','ㅍㅍ','ㅎㅎ',\n",
        "              'ㅏㅏ','ㅑㅑ','ㅓㅓ','ㅕㅕ','ㅜㅜ','ㅠㅠ','ㅡㅡ','ㅣㅣ',\n",
        "              '\\n']\n",
        "\n",
        "for w in stop_words:\n",
        "  df['댓글'] = df['댓글'].replace(w,'', regex=True)"
      ],
      "metadata": {
        "id": "hIA-cigIYuJL"
      },
      "execution_count": null,
      "outputs": []
    },
    {
      "cell_type": "code",
      "source": [
        "# 날짜 데이터 형식 변경\n",
        "con = (df['날짜'] == '3주 전') | (df['날짜'] == '3 weeks ago (edited)')\n",
        "df.loc[con, 'month'] = '2022-02'\n",
        "con = (df['날짜'] == '1개월 전') | (df['날짜'] == '1개월 전(수정됨)')\n",
        "df.loc[con, 'month'] = '2022-02'\n",
        "con = (df['날짜'] == '2개월 전') | (df['날짜'] == '2개월 전(수정됨)')\n",
        "df.loc[con, 'month'] = '2022-01'\n",
        "con = (df['날짜'] == '3개월 전') | (df['날짜'] == '3개월 전(수정됨)')\n",
        "df.loc[con, 'month'] = '2021-12'\n",
        "con = (df['날짜'] == '4개월 전') | (df['날짜'] == '4개월 전(수정됨)')\n",
        "df.loc[con, 'month'] = '2021-11'\n",
        "con = (df['날짜'] == '5개월 전') | (df['날짜'] == '5개월 전(수정됨)')\n",
        "df.loc[con, 'month'] = '2021-10'\n",
        "con = (df['날짜'] == '6개월 전') | (df['날짜'] == '6개월 전(수정됨)')\n",
        "df.loc[con, 'month'] = '2021-09'\n",
        "con = (df['날짜'] == '7개월 전') | (df['날짜'] == '7개월 전(수정됨)')\n",
        "df.loc[con, 'month'] = '2021-08'"
      ],
      "metadata": {
        "id": "UVwVzrhQYvlq"
      },
      "execution_count": null,
      "outputs": []
    },
    {
      "cell_type": "markdown",
      "source": [
        "### 감성분석"
      ],
      "metadata": {
        "id": "DsvMEiw8YxB0"
      }
    },
    {
      "cell_type": "code",
      "source": [
        "# 감성분석 라이브러리 적용\n",
        "df['labels_ns'] = df['댓글'].apply(sa, show_probs=True)\n",
        "df['labels_sh'] = df['댓글'].apply(sh, show_probs=True)\n",
        "\n",
        "df['labels_ns_threshold'] = df['labels_ns'].apply(check_neg)\n",
        "df['labels_sh_threshold'] = df['labels_sh'].apply(check_neg)\n",
        "df['both_labels'] = 'positive'\n",
        "df.loc[(df['labels_ns_threshold']=='negative')&(df['labels_sh_threshold']=='negative'), 'both_labels'] = 'negative'"
      ],
      "metadata": {
        "id": "d4tPWPqWYyl5"
      },
      "execution_count": null,
      "outputs": []
    },
    {
      "cell_type": "code",
      "source": [
        "# 사용할 컬럼만 남기기\n",
        "df = df[['채널명', '댓글', 'month', 'both_labels']]"
      ],
      "metadata": {
        "id": "dANLKDvZY1w0"
      },
      "execution_count": null,
      "outputs": []
    },
    {
      "cell_type": "code",
      "source": [
        "# 확인 및 보관용 csv 파일저장\n",
        "df.to_csv('non_fancim_ytb_labels_ver2.csv', index=False, encoding='utf-8-sig')"
      ],
      "metadata": {
        "id": "xdVX7Z72ZBxF"
      },
      "execution_count": null,
      "outputs": []
    }
  ]
}